{
 "cells": [
  {
   "cell_type": "markdown",
   "metadata": {},
   "source": [
    "# load data\n",
    "# 根据原论文内容，要：\n",
    "# transform the .mrc file into np array\n",
    "# chunked into pairs of overlapping boxes of size 60*60*60 with strides of 30 voxels\n",
    "# augmentation:\n",
    "# random 90 degree rotation\n",
    "# randomly cropping 48*48*48 box from 60*60*60box\n",
    "\n"
   ]
  },
  {
   "cell_type": "code",
   "execution_count": null,
   "metadata": {},
   "outputs": [],
   "source": [
    "import os\n",
    "import utils\n",
    "import mrcfile\n",
    "import numpy as np\n",
    "import interp_back\n",
    "import torch\n",
    "import torchvision\n",
    "from torch.utils import data\n",
    "from torchvision import transforms\n"
   ]
  },
  {
   "cell_type": "code",
   "execution_count": 1,
   "metadata": {},
   "outputs": [],
   "source": [
    "def readMrc2Np(folder_path, map_name):\n",
    "    mrc_arrays = {}\n",
    "    for filename in os.listdir(folder_path):\n",
    "        for map in os.listdir(filename):\n",
    "            if(os.path.basename(map) == map_name):\n",
    "                map_path = os.path.join(filename, map)\n",
    "                try:\n",
    "                    with mrcfile.open(map_path, mode='r', permissive=True) as mrc:\n",
    "                        data = mrc.data.astype(np.float32)\n",
    "                        mrc_arrays[filename] = data\n",
    "                        print(f\"成功读取{filename}, 维度:{data.shape}\")\n",
    "                except Exception as e:\n",
    "                    print(f\"文件 {filename} 读取失败: {str(e)}\")\n",
    "    return mrc_arrays"
   ]
  }
 ],
 "metadata": {
  "kernelspec": {
   "display_name": "emready_env",
   "language": "python",
   "name": "python3"
  },
  "language_info": {
   "codemirror_mode": {
    "name": "ipython",
    "version": 3
   },
   "file_extension": ".py",
   "mimetype": "text/x-python",
   "name": "python",
   "nbconvert_exporter": "python",
   "pygments_lexer": "ipython3",
   "version": "3.9.12"
  }
 },
 "nbformat": 4,
 "nbformat_minor": 2
}
