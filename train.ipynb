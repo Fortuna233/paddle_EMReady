{
 "cells": [
  {
   "cell_type": "markdown",
   "metadata": {},
   "source": [
    "load data\n",
    "根据原论文内容，要：\n",
    "transform the .mrc file into np array\n",
    "chunked into pairs of overlapping boxes of size 60*60*60 with strides of 30 voxels\n",
    "augmentation:\n",
    "random 90 degree rotation\n",
    "randomly cropping 48*48*48 box from 60*60*60box"
   ]
  },
  {
   "cell_type": "code",
   "execution_count": null,
   "metadata": {},
   "outputs": [],
   "source": [
    "import os\n",
    "import random\n",
    "import numpy as np\n",
    "import torch\n",
    "import torch.nn as nn\n",
    "from pytorch_msssim import ssim\n",
    "from scunet import SCUNet\n",
    "from utils import pad_map, chunk_generator, parse_map, get_batch_from_generator\n",
    "import matplotlib.pyplot as plt\n",
    "from torch import FloatTensor as FT\n",
    "from torch.autograd import Variable as V\n",
    "\n",
    "\n",
    "depoFolder = \"/home/tyche/training_and_validation_sets/depoFiles\"\n",
    "simuFolder = \"/home/tyche/training_and_validation_sets/simuFiles\"\n",
    "batch_size = 32\n"
   ]
  },
  {
   "cell_type": "code",
   "execution_count": null,
   "metadata": {},
   "outputs": [],
   "source": [
    "def get_all_files(directory):\n",
    "    file_list = list()\n",
    "    for file in os.listdir(directory):\n",
    "        file_list.append(f\"{directory}/{file}\")\n",
    "    return file_list\n",
    "\n",
    "\n",
    "depoList = get_all_files(depoFolder)\n",
    "simuList = get_all_files(simuFolder)\n",
    "depoList.sort()\n",
    "simuList.sort()"
   ]
  },
  {
   "cell_type": "code",
   "execution_count": null,
   "metadata": {},
   "outputs": [],
   "source": [
    "def mrc2padded(mrcfile, apix):\n",
    "    map, origin, nxyz, voxel_size, nxyz_origin = parse_map(mrcfile, ignorestart=False, apix=apix)\n",
    "    print(f\"# Original map dimensions: {nxyz_origin}\")\n",
    "    nxyzstart = np.round(origin / voxel_size).astype(np.int64)\n",
    "    print(f\"# Map dimensions at {apix} Angstrom grid size: {nxyz}\")\n",
    "    padded_map = pad_map(map, 60, dtype=np.float32, padding=0.0)\n",
    "    maximum = np.percentile(map[map > 0], 99.999)\n",
    "    del map\n",
    "    return padded_map, maximum\n",
    "\n"
   ]
  },
  {
   "cell_type": "code",
   "execution_count": null,
   "metadata": {},
   "outputs": [],
   "source": [
    "def transform(tensor, outsize=48):\n",
    "    N = tensor.shape[0]\n",
    "    axes_options=[(0,1), (1, 2), (0, 2)]\n",
    "    nx, ny, nz = tensor.shape[1:4]\n",
    "    newx, newy, newz = outsize, outsize, outsize\n",
    "    output = torch.zeros(N, 48, 48, 48, device=tensor.device)\n",
    "    for i in range(N):\n",
    "        k = random.choice([1, 2, 3]) \n",
    "        rotated = torch.rot90(tensor[i], k=k, dims=random.choice(axes_options))\n",
    "        startX = random.randint(0, nx-newx)\n",
    "        startY = random.randint(0, ny-newy)\n",
    "        startZ = random.randint(0, nz-newz)\n",
    "        cropped = rotated[startX:startX+outsize, startY:startY+outsize, startZ:startZ+outsize]\n",
    "        output[i] = cropped\n",
    "    del tensor\n",
    "    torch.cuda.empty_cache()\n",
    "    return output\n",
    "\n",
    "# 输入为torch张量batch_size*60*60*60"
   ]
  },
  {
   "cell_type": "code",
   "execution_count": null,
   "metadata": {},
   "outputs": [],
   "source": [
    "model = SCUNet(\n",
    "    in_nc=1,\n",
    "    config=[2,2,2,2,2,2,2],\n",
    "    dim=32,\n",
    "    drop_path_rate=0.0,\n",
    "    input_resolution=48,\n",
    "    head_dim=16,\n",
    "    window_size=3,\n",
    ")\n",
    "torch.cuda.empty_cache()\n",
    "model = model.cuda()\n",
    "print(model)\n"
   ]
  },
  {
   "cell_type": "code",
   "execution_count": null,
   "metadata": {},
   "outputs": [],
   "source": [
    "# 定义损失函数\n",
    "def loss(pred, target):\n",
    "    smooth_l1_loss = nn.SmoothL1Loss(beta=1.0, reduction='mean')\n",
    "    return smooth_l1_loss(pred, target) + 1 - ssim(pred, target, data_range=1.0,    size_average=True)\n",
    "    "
   ]
  },
  {
   "cell_type": "code",
   "execution_count": null,
   "metadata": {},
   "outputs": [],
   "source": [
    "trainer = torch.optim.Adam"
   ]
  },
  {
   "cell_type": "code",
   "execution_count": null,
   "metadata": {},
   "outputs": [],
   "source": [
    "num_epochs = 300\n",
    "model.train()\n",
    "\n",
    "\n",
    "for epoch in range(num_epochs):\n",
    "    for depoFile, simuFile in zip(depoList, simuList):\n",
    "        if(os.path.getsize(depoFile) > 1024 * 1024 * 512 or os.path.getsize(simuFile) > 1024 * 1024 * 512):\n",
    "            continue\n",
    "        train_loss = 0\n",
    "        depoPadded, depoMax = mrc2padded(depoFile, 1.0)\n",
    "        simuPadded, simuMax = mrc2padded(simuFile, 1.0)\n",
    "        depo_generator = chunk_generator(depoPadded, depoMax, 60, 30)\n",
    "        simu_generator = chunk_generator(simuPadded, simuMax, 60, 30)\n",
    "        while True:\n",
    "            _, depo_chunks = get_batch_from_generator(depo_generator, 32, dtype=np.float32)\n",
    "            _, simu_chunks = get_batch_from_generator(simu_generator, 32, dtype=np.float32)\n",
    "            if depo_chunks.shape != simu_chunks.shape:\n",
    "                continue\n",
    "            \n",
    "            if depo_chunks.shape[0] == 0:\n",
    "                break\n",
    "            depo_chunks = torch.from_numpy(depo_chunks).float()\n",
    "            simu_chunks = torch.from_numpy(simu_chunks).float()\n",
    "            depo_chunks = transform(depo_chunks)\n",
    "            simu_chunks = transform(simu_chunks)\n",
    "            print(depo_chunks.shape)\n",
    "\n",
    "            X = V(FT(depo_chunks), requires_grad=True).view(-1, 1, 48, 48, 48)\n",
    "            X = X.cuda()\n",
    "            y_pred = model(X).view(-1, 48, 48, 48)           \n",
    "            l = loss(y_pred, simu_chunks)\n",
    "            trainer.zero_grad()\n",
    "            l.backward()\n",
    "            trainer.step()\n",
    "            train_loss += l\n",
    "        print(f\"epoch:{epoch} depofile:{depoFile} train_loss:{train_loss}\")"
   ]
  }
 ],
 "metadata": {
  "kernelspec": {
   "display_name": "emready_env",
   "language": "python",
   "name": "python3"
  },
  "language_info": {
   "codemirror_mode": {
    "name": "ipython",
    "version": 3
   },
   "file_extension": ".py",
   "mimetype": "text/x-python",
   "name": "python",
   "nbconvert_exporter": "python",
   "pygments_lexer": "ipython3",
   "version": "3.9.12"
  }
 },
 "nbformat": 4,
 "nbformat_minor": 2
}
