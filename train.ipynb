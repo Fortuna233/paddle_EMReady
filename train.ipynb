{
 "cells": [
  {
   "cell_type": "code",
   "execution_count": 1,
   "metadata": {},
   "outputs": [],
   "source": [
    "import os\n",
    "import random\n",
    "import numpy as np\n",
    "import plotly.graph_objects as go\n",
    "import matplotlib.pyplot as plt\n",
    "import torch\n",
    "import torch.nn as nn\n",
    "from pytorch_msssim import ssim\n",
    "from scunet import SCUNet\n",
    "from utils import pad_map, chunk_generator, mrc2map, trim_zero_edges, align, transform, get_batch_from_generator\n",
    "from torch import FloatTensor as FT\n",
    "from torch.autograd import Variable as V\n",
    "\n",
    "\n",
    "depoFolder = \"/home/tyche/training_and_validation_sets/depoFiles\"\n",
    "simuFolder = \"/home/tyche/training_and_validation_sets/simuFiles\"\n",
    "batch_size = 8\n",
    "apix = 4\n",
    "num_epochs = 300"
   ]
  },
  {
   "cell_type": "code",
   "execution_count": 2,
   "metadata": {},
   "outputs": [],
   "source": [
    "# 数据预处理\n",
    "def get_all_files(directory):\n",
    "    file_list = list()\n",
    "    for file in os.listdir(directory):\n",
    "        file_list.append(f\"{directory}/{file}\")\n",
    "    return file_list\n",
    "\n",
    "\n",
    "depoList = get_all_files(depoFolder)\n",
    "simuList = get_all_files(simuFolder)\n",
    "depoList.sort()\n",
    "simuList.sort()\n",
    "\n"
   ]
  },
  {
   "cell_type": "code",
   "execution_count": 12,
   "metadata": {},
   "outputs": [
    {
     "data": {
      "text/plain": [
       "(torch.Size([16, 48, 48, 48]), torch.Size([16, 48, 48, 48]))"
      ]
     },
     "execution_count": 12,
     "metadata": {},
     "output_type": "execute_result"
    }
   ],
   "source": [
    "A = torch.randn(16, 60, 60, 60)\n",
    "B = torch.randn(16, 60, 60, 60)\n",
    "A, B = transform(A, B)\n",
    "A.shape, B.shape"
   ]
  },
  {
   "cell_type": "code",
   "execution_count": null,
   "metadata": {},
   "outputs": [],
   "source": [
    "\n",
    "# 输入为torch张量batch_size*60*60*60\n",
    "model = SCUNet(\n",
    "    in_nc=1,\n",
    "    config=[2,2,2,2,2,2,2],\n",
    "    dim=32,\n",
    "    drop_path_rate=0.0,\n",
    "    input_resolution=48,\n",
    "    head_dim=16,\n",
    "    window_size=3,\n",
    ")\n",
    "torch.cuda.empty_cache()\n",
    "model = model.cuda()\n",
    "\n",
    "\n",
    "# 定义损失函数\n",
    "def loss(pred, target):\n",
    "    smooth_l1_loss = nn.SmoothL1Loss(beta=1.0, reduction='mean')\n",
    "    return smooth_l1_loss(pred, target) + 1 - ssim(pred, target, data_range=1.0,    size_average=True)\n",
    "    \n",
    "\n",
    "# 定义trainer\n",
    "trainer = torch.optim.Adam(\n",
    "    model.parameters(),\n",
    "    lr=0.0005,\n",
    "    betas=(0.9, 0.999),\n",
    "    eps=1e-8,\n",
    "    weight_decay=0,\n",
    "    amsgrad=False\n",
    ")\n",
    "\n"
   ]
  },
  {
   "cell_type": "code",
   "execution_count": null,
   "metadata": {},
   "outputs": [],
   "source": [
    "print(depoList[1])\n",
    "depoMap = mrc2map(depoList[1], 1.0)\n",
    "# 降采样\n",
    "depoMap = depoMap[::20, ::20, ::20]\n",
    "print(f\"shape: {depoMap.shape}\")\n",
    "x, y, z = np.where(depoMap)  # 筛选高值区域\n",
    "print(x.shape)\n",
    "values = depoMap[x, y, z]\n",
    "print(f\"shape of values: {values.shape}\")\n",
    "\n",
    "# fig = go.Figure(data=go.Scatter3d(\n",
    "#     x=x, y=y, z=z, mode='markers',\n",
    "#     marker=dict(size=5, color=values, colorscale='Viridis', opacity=0.8)\n",
    "# ))\n",
    "# fig.update_layout(scene=dict(aspectmode='cube'))\n",
    "# fig.show()\n",
    "\n",
    "\n",
    "# plt.hist(values, bins=30, density=True, color='skyblue', edgecolor='black', alpha=0.7)\n",
    "# plt.xlabel('interval')\n",
    "# plt.ylabel('likelihood')\n",
    "# plt.title('frequency histogram')\n",
    "# plt.show()\n"
   ]
  },
  {
   "cell_type": "code",
   "execution_count": null,
   "metadata": {},
   "outputs": [],
   "source": [
    "print(simuList[1])\n",
    "simuPadded = mrc2map(simuList[1], 1.0)\n",
    "# 降采样\n",
    "simuPadded = simuPadded[::20, ::20, ::20]\n",
    "print(f\"shape: {simuPadded.shape}\")\n",
    "x, y, z = np.where(simuPadded)  # 筛选高值区域\n",
    "values = simuPadded[x, y, z]\n",
    "print(f\"shape of values: {values.shape}\")\n",
    "# fig = go.Figure(data=go.Scatter3d(\n",
    "#     x=x, y=y, z=z, mode='markers',\n",
    "#     marker=dict(size=5, color=values, colorscale='Viridis', opacity=0.8)\n",
    "# ))\n",
    "# fig.update_layout(scene=dict(aspectmode='cube'))\n",
    "# fig.show()\n",
    "\n",
    "\n",
    "# plt.hist(values, bins=30, density=True, color='skyblue', edgecolor='black', alpha=0.7)\n",
    "# plt.xlabel('interval')\n",
    "# plt.ylabel('likelihood')\n",
    "# plt.title('frequency histogram')\n",
    "# plt.show()"
   ]
  },
  {
   "cell_type": "code",
   "execution_count": null,
   "metadata": {},
   "outputs": [],
   "source": [
    "model.train()\n",
    "for depoFile, simuFile in zip(depoList, simuList):\n",
    "    if(os.path.getsize(depoFile) > 1024 * 1024 * 512 or os.path.getsize(simuFile) > 1024 * 1024 * 512):\n",
    "        continue\n",
    "    print(depoFile)\n",
    "    depoMap, depoStart, depoMax = mrc2map(depoFile, 1.0)\n",
    "    print(f\"shape: {depoMap.shape}\")\n",
    "    print(simuFile)\n",
    "    simuMap, simuStart, simuMax = mrc2map(simuFile, 1.0)\n",
    "    print(f\"shape: {simuMap.shape}\")\n",
    "\n",
    "    '''\n",
    "    depoPadded = pad_map(depoMap, 60)\n",
    "    del depoMap\n",
    "    simuPadded = pad_map(simuMap, 60)\n",
    "    del simuMap\n",
    "    #两个map不一样大，如何align，同时生成一样大的且对应的map\n",
    "    for epoch in range(num_epochs):\n",
    "        train_loss = 0\n",
    "        depo_generator = chunk_generator(depoPadded, depoMax, 60, 30)\n",
    "        simu_generator = chunk_generator(simuPadded, simuMax, 60, 30)\n",
    "        while True:\n",
    "            positions_depo, depo_chunks = get_batch_from_generator(depo_generator, batch_size, dtype=np.float32)\n",
    "            positions_simu, simu_chunks = get_batch_from_generator(simu_generator, batch_size, dtype=np.float32)\n",
    "            if depo_chunks.shape != simu_chunks.shape:\n",
    "                continue\n",
    "            \n",
    "            if depo_chunks.shape[0] == 0:\n",
    "                break\n",
    "            depo_chunks = torch.from_numpy(depo_chunks).float()\n",
    "            simu_chunks = torch.from_numpy(simu_chunks).float()\n",
    "            #保证depo和simu这俩map对每个chunk的操作完全一致，即密度能完全对应上\n",
    "            depo_chunks, simu_chunks = transform(depo_chunks, simu_chunks)\n",
    "            X = V(FT(depo_chunks), requires_grad=True).view(-1, 1, 48, 48, 48)\n",
    "            X = X.cuda()\n",
    "            simu_chunks = simu_chunks.cuda()\n",
    "            y_pred = model(X).view(-1, 48, 48, 48)           \n",
    "            l = loss(y_pred, simu_chunks)\n",
    "            trainer.zero_grad()\n",
    "            l.backward()\n",
    "            trainer.step()\n",
    "            train_loss += l\n",
    "\n",
    "        print(f\"epoch:{epoch} depofile:{depoFile} train_loss:{train_loss}\")\n",
    "    '''\n"
   ]
  }
 ],
 "metadata": {
  "kernelspec": {
   "display_name": "emready_env",
   "language": "python",
   "name": "python3"
  },
  "language_info": {
   "codemirror_mode": {
    "name": "ipython",
    "version": 3
   },
   "file_extension": ".py",
   "mimetype": "text/x-python",
   "name": "python",
   "nbconvert_exporter": "python",
   "pygments_lexer": "ipython3",
   "version": "3.9.12"
  }
 },
 "nbformat": 4,
 "nbformat_minor": 4
}
